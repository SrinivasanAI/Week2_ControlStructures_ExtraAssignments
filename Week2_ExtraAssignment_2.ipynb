{
 "cells": [
  {
   "cell_type": "code",
   "execution_count": 1,
   "id": "c5e0e7c3-446b-4dcf-95c7-5100494df886",
   "metadata": {},
   "outputs": [
    {
     "name": "stdout",
     "output_type": "stream",
     "text": [
      "0\n",
      "1\n",
      "2\n",
      "3\n",
      "4\n",
      "5\n",
      "6\n",
      "7\n",
      "8\n",
      "9\n",
      "10\n",
      "11\n",
      "12\n",
      "13\n",
      "14\n",
      "15\n",
      "16\n",
      "17\n",
      "18\n",
      "19\n"
     ]
    }
   ],
   "source": [
    "# [1] print 0 to 20 by using range\n",
    "for num in range(0,20) :\n",
    "    print(num)"
   ]
  },
  {
   "cell_type": "code",
   "execution_count": 2,
   "id": "1d659ef7-1ec5-4286-87b8-1dbbfd2da6ba",
   "metadata": {},
   "outputs": [
    {
     "name": "stdout",
     "output_type": "stream",
     "text": [
      "10\n",
      "11\n",
      "12\n",
      "13\n",
      "14\n",
      "15\n",
      "16\n",
      "17\n",
      "18\n",
      "19\n"
     ]
    }
   ],
   "source": [
    "# [2] print range 10 to 20\n",
    "for num in range(10,20) :\n",
    "    print(num)"
   ]
  },
  {
   "cell_type": "code",
   "execution_count": 3,
   "id": "7dfdba84-346a-4b2c-a13d-e75ed2f96d42",
   "metadata": {},
   "outputs": [
    {
     "name": "stdout",
     "output_type": "stream",
     "text": [
      "Number of items in the list  :  7\n"
     ]
    }
   ],
   "source": [
    "# [3] Print number of items in the list by using 'len' function \n",
    "list = [10, 20, 14, 55, 43, 87, 76]\n",
    "print(\"Number of items in the list  : \" , len(list))"
   ]
  },
  {
   "cell_type": "code",
   "execution_count": 5,
   "id": "d607c178-573f-43d6-9e74-7415f51bc898",
   "metadata": {},
   "outputs": [
    {
     "name": "stdin",
     "output_type": "stream",
     "text": [
      "Enter the string :  Hope AI\n"
     ]
    },
    {
     "name": "stdout",
     "output_type": "stream",
     "text": [
      "H\n",
      "o\n",
      "p\n",
      "e\n",
      " \n",
      "A\n",
      "I\n"
     ]
    }
   ],
   "source": [
    "# [4] Get the string as Input and Print each character of that string 1 by 1\n",
    "str = input(\"Enter the string : \")\n",
    "strLen = len(str)\n",
    "if(strLen>0) :\n",
    "    for i in range(0,strLen) :\n",
    "        print(str[i])\n"
   ]
  },
  {
   "cell_type": "code",
   "execution_count": 7,
   "id": "30fb747f-5623-4b2b-aabd-4338df1d4aab",
   "metadata": {},
   "outputs": [
    {
     "name": "stdout",
     "output_type": "stream",
     "text": [
      "-Your Name-\n",
      "-Your Age-\n",
      "-Your Profession-\n"
     ]
    }
   ],
   "source": [
    "# [5] Create a list with 3 string items and print each list item 1 by 1\n",
    "personList = [\"-Your Name-\",\"-Your Age-\",\"-Your Profession-\"]\n",
    "for listItem in personList :\n",
    "    print(listItem)"
   ]
  },
  {
   "cell_type": "code",
   "execution_count": 9,
   "id": "2653ae39-5b8b-4f72-b893-c6c82a7d33c9",
   "metadata": {},
   "outputs": [
    {
     "name": "stdout",
     "output_type": "stream",
     "text": [
      "Tuple with mixed datatypes :   (1, 'Welcome', 2, 'Hope')\n"
     ]
    }
   ],
   "source": [
    "# [6] Create a tuple collection with mixed datatypes and print the items\n",
    "tupleCollection = (1, 'Welcome', 2, 'Hope')\n",
    "print(\"Tuple with mixed datatypes :  \" ,tupleCollection)"
   ]
  },
  {
   "cell_type": "code",
   "execution_count": 12,
   "id": "3f0c71e4-9ea9-48eb-920d-86bd99ac396f",
   "metadata": {},
   "outputs": [
    {
     "name": "stdout",
     "output_type": "stream",
     "text": [
      "Nested tuple items:  ((0, 1, 2, 3), ('python', 'HOPE'))\n"
     ]
    }
   ],
   "source": [
    "# [7] Create a tuple with nested tuples and print the items\n",
    "numbersTuple = (0, 1, 2, 3)\n",
    "stringTuple = ('python', 'HOPE')\n",
    "nestedTuple = (numbersTuple,stringTuple)\n",
    "print(\"Nested tuple items: \", nestedTuple)"
   ]
  },
  {
   "cell_type": "code",
   "execution_count": 13,
   "id": "0ef4a8b9-dc6d-410a-b9d6-2d4107c067dd",
   "metadata": {},
   "outputs": [
    {
     "name": "stdout",
     "output_type": "stream",
     "text": [
      "19  is odd \n",
      "25  is odd \n",
      "1  is odd \n"
     ]
    }
   ],
   "source": [
    "# [8] print Odd Numbers in the list\n",
    "list = (20,10,16,19,25,1,276,188)\n",
    "for num in list :\n",
    "    if(num%2==1) :\n",
    "        print(num, \" is odd \")"
   ]
  },
  {
   "cell_type": "code",
   "execution_count": 14,
   "id": "0a15193d-2cf6-44e7-a3f5-efc690076e3f",
   "metadata": {},
   "outputs": [
    {
     "name": "stdout",
     "output_type": "stream",
     "text": [
      "20  is even \n",
      "10  is even \n",
      "16  is even \n",
      "276  is even \n",
      "188  is even \n"
     ]
    }
   ],
   "source": [
    "# [9] print Even Numbers in the list\n",
    "list = (20,10,16,19,25,1,276,188)\n",
    "for num in list :\n",
    "    if(num%2==0) :\n",
    "        print(num, \" is even \")"
   ]
  },
  {
   "cell_type": "code",
   "execution_count": null,
   "id": "68301af7-0868-4518-8e8d-723e6b8b3a9a",
   "metadata": {},
   "outputs": [],
   "source": []
  }
 ],
 "metadata": {
  "kernelspec": {
   "display_name": "Python 3 (ipykernel)",
   "language": "python",
   "name": "python3"
  },
  "language_info": {
   "codemirror_mode": {
    "name": "ipython",
    "version": 3
   },
   "file_extension": ".py",
   "mimetype": "text/x-python",
   "name": "python",
   "nbconvert_exporter": "python",
   "pygments_lexer": "ipython3",
   "version": "3.12.7"
  }
 },
 "nbformat": 4,
 "nbformat_minor": 5
}
