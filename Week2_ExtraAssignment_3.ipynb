{
 "cells": [
  {
   "cell_type": "code",
   "execution_count": 17,
   "id": "a521e8f7-4cbb-4a69-99f9-696678f1cd0e",
   "metadata": {},
   "outputs": [
    {
     "name": "stdin",
     "output_type": "stream",
     "text": [
      "Enter the value of i :  10\n"
     ]
    },
    {
     "name": "stdout",
     "output_type": "stream",
     "text": [
      "Correct\n"
     ]
    }
   ],
   "source": [
    "# [1] print 'CORRECT' if i == 10\n",
    "i = int ( input(\"Enter the value of i : \") )\n",
    "if(i==10) :\n",
    "    print(\"Correct\")\n",
    "else :\n",
    "    print(\"Not Correct\")"
   ]
  },
  {
   "cell_type": "code",
   "execution_count": 6,
   "id": "b4923c83-a3a2-4921-8137-3d4722f5aec9",
   "metadata": {},
   "outputs": [
    {
     "name": "stdin",
     "output_type": "stream",
     "text": [
      " Enter the password :  HOPE@123\n"
     ]
    },
    {
     "name": "stdout",
     "output_type": "stream",
     "text": [
      "Your password is correct\n"
     ]
    }
   ],
   "source": [
    "# [2] Check the password, using if and else\n",
    "password  = input (\" Enter the password : \")\n",
    "if(password==\"HOPE@123\") :\n",
    "    print(\"Your password is correct\")\n",
    "else :\n",
    "    print(\"Your password is not correct\")"
   ]
  },
  {
   "cell_type": "code",
   "execution_count": 11,
   "id": "a3c73ab9-4b1d-454f-baef-6d897ac8cf8b",
   "metadata": {},
   "outputs": [
    {
     "name": "stdin",
     "output_type": "stream",
     "text": [
      " Enter the age :  65\n"
     ]
    },
    {
     "name": "stdout",
     "output_type": "stream",
     "text": [
      "Your age category is :  Senior Citizen\n"
     ]
    }
   ],
   "source": [
    "# [3] Catagory the people by their age like children, adult, citizen, senior citizen.\n",
    "age  = int ( input (\" Enter the age : \") )\n",
    "category = \"\"\n",
    "if(age<18) :\n",
    "    category = \"Children\"\n",
    "elif(age>=18 and age<45) :\n",
    "    category = \"Adult\"\n",
    "elif(age>=45 and age<60) :\n",
    "    category = \"Citizen\"\n",
    "elif(age>=60 and age<70) :\n",
    "    category = \"Senior Citizen\"\n",
    "else :\n",
    "     category = \"Super Senior Citizen\"\n",
    "print(\"Your age category is : \", category)"
   ]
  },
  {
   "cell_type": "code",
   "execution_count": 16,
   "id": "c2d48fab-7976-465a-9468-9a557c11d447",
   "metadata": {},
   "outputs": [
    {
     "name": "stdin",
     "output_type": "stream",
     "text": [
      "Enter any number :  -5\n"
     ]
    },
    {
     "name": "stdout",
     "output_type": "stream",
     "text": [
      "Number is Negative\n"
     ]
    }
   ],
   "source": [
    "# [4] Find whether given number is positive or negative\n",
    "num = int ( input( \"Enter any number : \" ) )\n",
    "if(num>=0) :\n",
    "    print(\"Number is Positive\")\n",
    "else :\n",
    "    print(\"Number is Negative\")"
   ]
  },
  {
   "cell_type": "code",
   "execution_count": 19,
   "id": "bee9ae08-3b05-4055-bd08-19f60df9589a",
   "metadata": {},
   "outputs": [
    {
     "name": "stdin",
     "output_type": "stream",
     "text": [
      "Enter any number :  50\n"
     ]
    },
    {
     "name": "stdout",
     "output_type": "stream",
     "text": [
      "Number is divisible by 5\n"
     ]
    }
   ],
   "source": [
    "# [5] Check whether the given number is divisible by 5\n",
    "num = int ( input( \"Enter any number : \" ) )\n",
    "if(num%5==0) :\n",
    "    print(\"Number is divisible by 5\")\n",
    "else :\n",
    "    print(\"Number is not divisible by 5\")"
   ]
  },
  {
   "cell_type": "code",
   "execution_count": null,
   "id": "99ae182f-4487-4722-90b0-8628f38cdb4c",
   "metadata": {},
   "outputs": [],
   "source": []
  }
 ],
 "metadata": {
  "kernelspec": {
   "display_name": "Python 3 (ipykernel)",
   "language": "python",
   "name": "python3"
  },
  "language_info": {
   "codemirror_mode": {
    "name": "ipython",
    "version": 3
   },
   "file_extension": ".py",
   "mimetype": "text/x-python",
   "name": "python",
   "nbconvert_exporter": "python",
   "pygments_lexer": "ipython3",
   "version": "3.12.7"
  }
 },
 "nbformat": 4,
 "nbformat_minor": 5
}
