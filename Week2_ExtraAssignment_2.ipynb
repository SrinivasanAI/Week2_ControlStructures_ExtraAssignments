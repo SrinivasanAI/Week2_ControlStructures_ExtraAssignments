{
 "cells": [
  {
   "cell_type": "code",
   "execution_count": 1,
   "id": "c5e0e7c3-446b-4dcf-95c7-5100494df886",
   "metadata": {},
   "outputs": [
    {
     "name": "stdout",
     "output_type": "stream",
     "text": [
      "0\n",
      "1\n",
      "2\n",
      "3\n",
      "4\n",
      "5\n",
      "6\n",
      "7\n",
      "8\n",
      "9\n",
      "10\n",
      "11\n",
      "12\n",
      "13\n",
      "14\n",
      "15\n",
      "16\n",
      "17\n",
      "18\n",
      "19\n"
     ]
    }
   ],
   "source": [
    "# [1] print 0 to 20 by using range\n",
    "for num in range(0,20) :\n",
    "    print(num)"
   ]
  },
  {
   "cell_type": "code",
   "execution_count": 2,
   "id": "1d659ef7-1ec5-4286-87b8-1dbbfd2da6ba",
   "metadata": {},
   "outputs": [
    {
     "name": "stdout",
     "output_type": "stream",
     "text": [
      "10\n",
      "11\n",
      "12\n",
      "13\n",
      "14\n",
      "15\n",
      "16\n",
      "17\n",
      "18\n",
      "19\n"
     ]
    }
   ],
   "source": [
    "# [2] print range 10 to 20\n",
    "for num in range(10,20) :\n",
    "    print(num)"
   ]
  },
  {
   "cell_type": "code",
   "execution_count": 3,
   "id": "7dfdba84-346a-4b2c-a13d-e75ed2f96d42",
   "metadata": {},
   "outputs": [
    {
     "name": "stdout",
     "output_type": "stream",
     "text": [
      "Number of items in the list  :  7\n"
     ]
    }
   ],
   "source": [
    "# [3] Print number of items in the list by using 'len' function \n",
    "list = [10, 20, 14, 55, 43, 87, 76]\n",
    "print(\"Number of items in the list  : \" , len(list))"
   ]
  },
  {
   "cell_type": "code",
   "execution_count": null,
   "id": "d607c178-573f-43d6-9e74-7415f51bc898",
   "metadata": {},
   "outputs": [],
   "source": []
  }
 ],
 "metadata": {
  "kernelspec": {
   "display_name": "Python 3 (ipykernel)",
   "language": "python",
   "name": "python3"
  },
  "language_info": {
   "codemirror_mode": {
    "name": "ipython",
    "version": 3
   },
   "file_extension": ".py",
   "mimetype": "text/x-python",
   "name": "python",
   "nbconvert_exporter": "python",
   "pygments_lexer": "ipython3",
   "version": "3.12.7"
  }
 },
 "nbformat": 4,
 "nbformat_minor": 5
}
