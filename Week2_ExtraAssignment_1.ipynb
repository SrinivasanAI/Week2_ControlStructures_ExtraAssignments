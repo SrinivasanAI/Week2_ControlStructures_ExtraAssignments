{
 "cells": [
  {
   "cell_type": "code",
   "execution_count": 1,
   "id": "85bbebab-cf99-47ee-9c98-43cbbac5d724",
   "metadata": {},
   "outputs": [
    {
     "name": "stdout",
     "output_type": "stream",
     "text": [
      "HOPE AI\n"
     ]
    }
   ],
   "source": [
    "# [1] Print Statement \n",
    "print(\"HOPE AI\")"
   ]
  },
  {
   "cell_type": "code",
   "execution_count": 2,
   "id": "9c1159cd-4b4b-4477-abd5-785d8f209198",
   "metadata": {},
   "outputs": [
    {
     "name": "stdin",
     "output_type": "stream",
     "text": [
      "Enter your institute name? :  Hope AI\n"
     ]
    },
    {
     "name": "stdout",
     "output_type": "stream",
     "text": [
      "The institute name is :  Hope AI\n"
     ]
    }
   ],
   "source": [
    "# [2] Buy input (institute name)\n",
    "instName = input(\"Enter your institute name? : \")\n",
    "print(\"The institute name is : \", instName )"
   ]
  },
  {
   "cell_type": "code",
   "execution_count": 3,
   "id": "2efc7c7c-16a7-4d3c-a5ff-6bc4ef54569e",
   "metadata": {},
   "outputs": [
    {
     "name": "stdin",
     "output_type": "stream",
     "text": [
      "Enter your name :  Sri\n",
      "Enter your age :  35\n",
      "Enter your school name :  KMV School\n",
      "Enter your degree :  Btech Info Tech\n"
     ]
    },
    {
     "name": "stdout",
     "output_type": "stream",
     "text": [
      "***********************************Your personal details*************************************\n",
      " Name        :  Sri\n",
      " Age         :  35\n",
      " School Name :  KMV School\n",
      " Degree      :  Btech Info Tech\n"
     ]
    }
   ],
   "source": [
    "# [3] Buy inputs (personal details )\n",
    "name = input (\"Enter your name : \" )\n",
    "age  = int( input (\"Enter your age : \" ) )\n",
    "schoolName  = input (\"Enter your school name : \" )\n",
    "degree = input (\"Enter your degree : \" )\n",
    "\n",
    "print(\"***********************************Your personal details*************************************\")\n",
    "print(\" Name        : \", name)\n",
    "print(\" Age         : \", age)\n",
    "print(\" School Name : \", schoolName)\n",
    "print(\" Degree      : \", degree)"
   ]
  },
  {
   "cell_type": "code",
   "execution_count": 1,
   "id": "866d8a96-8c81-43e5-b9d3-7cc3439229fb",
   "metadata": {},
   "outputs": [
    {
     "name": "stdin",
     "output_type": "stream",
     "text": [
      "Enter the value of a :  34\n",
      "Enter the value of b :  66\n"
     ]
    },
    {
     "name": "stdout",
     "output_type": "stream",
     "text": [
      "Addition of 2 numbers is :  100\n"
     ]
    }
   ],
   "source": [
    "# [4] Addition of 2 numbers\n",
    "a = int ( input(\"Enter the value of a : \"))\n",
    "b = int ( input(\"Enter the value of b : \"))\n",
    "print(\"Addition of 2 numbers is : \" , a+b)\n"
   ]
  },
  {
   "cell_type": "code",
   "execution_count": 3,
   "id": "74d8dde2-b7b2-4d51-bc2e-6fd5f32347b6",
   "metadata": {},
   "outputs": [
    {
     "name": "stdin",
     "output_type": "stream",
     "text": [
      "Enter the value of a :  100\n",
      "Enter the value of b :  66\n"
     ]
    },
    {
     "name": "stdout",
     "output_type": "stream",
     "text": [
      "Subtraction of 2 numbers is :  34\n"
     ]
    }
   ],
   "source": [
    "# [5] Subtraction of 2 numbers\n",
    "a = int ( input(\"Enter the value of a : \"))\n",
    "b = int ( input(\"Enter the value of b : \"))\n",
    "print(\"Subtraction of 2 numbers is : \" , a-b)"
   ]
  },
  {
   "cell_type": "code",
   "execution_count": 4,
   "id": "262b90cd-530f-46bb-80b1-f2b3f93b864d",
   "metadata": {},
   "outputs": [
    {
     "name": "stdin",
     "output_type": "stream",
     "text": [
      "Enter the value of a :  25\n",
      "Enter the value of b :  4\n"
     ]
    },
    {
     "name": "stdout",
     "output_type": "stream",
     "text": [
      "Multiplication of 2 numbers is :  100\n"
     ]
    }
   ],
   "source": [
    "# [6] Multiplication of 2 numbers\n",
    "a = int ( input(\"Enter the value of a : \"))\n",
    "b = int ( input(\"Enter the value of b : \"))\n",
    "print(\"Multiplication of 2 numbers is : \" , a*b)"
   ]
  },
  {
   "cell_type": "code",
   "execution_count": 5,
   "id": "eb07fb2a-3635-40c6-a446-d6c0eb2a446c",
   "metadata": {},
   "outputs": [
    {
     "name": "stdin",
     "output_type": "stream",
     "text": [
      "Enter the value of a :  30\n",
      "Enter the value of b :  4\n"
     ]
    },
    {
     "name": "stdout",
     "output_type": "stream",
     "text": [
      "Division of 2 numbers is :  7.5\n"
     ]
    }
   ],
   "source": [
    "# [7] Division of 2 numbers\n",
    "a = int ( input(\"Enter the value of a : \"))\n",
    "b = int ( input(\"Enter the value of b : \"))\n",
    "print(\"Division of 2 numbers is : \" , float(a/b))"
   ]
  },
  {
   "cell_type": "code",
   "execution_count": 6,
   "id": "321b282c-b072-4acd-b160-effb6cbf1b65",
   "metadata": {},
   "outputs": [
    {
     "name": "stdin",
     "output_type": "stream",
     "text": [
      "Enter the value of a :  10\n",
      "Enter the value of b :  3\n"
     ]
    },
    {
     "name": "stdout",
     "output_type": "stream",
     "text": [
      "Floor Division of 2 numbers is :  3\n"
     ]
    }
   ],
   "source": [
    "# [8] Floor Division of 2 numbers (using //)\n",
    "a = int ( input(\"Enter the value of a : \"))\n",
    "b = int ( input(\"Enter the value of b : \"))\n",
    "print(\"Floor Division of 2 numbers is : \" , a//b)"
   ]
  },
  {
   "cell_type": "code",
   "execution_count": 7,
   "id": "4923e791-4ea0-41b2-9dcb-125fded93e47",
   "metadata": {},
   "outputs": [
    {
     "name": "stdin",
     "output_type": "stream",
     "text": [
      "Enter the value of a :  10\n",
      "Enter the value of b :  3\n"
     ]
    },
    {
     "name": "stdout",
     "output_type": "stream",
     "text": [
      "10 % 3  is :  1\n"
     ]
    }
   ],
   "source": [
    "# [9] Modulo\n",
    "a = int ( input(\"Enter the value of a : \"))\n",
    "b = int ( input(\"Enter the value of b : \"))\n",
    "print(a, \"%\" , b , \" is : \", a%b)"
   ]
  },
  {
   "cell_type": "code",
   "execution_count": 8,
   "id": "eeb669c2-4d5c-414a-95ca-f723486cae6e",
   "metadata": {},
   "outputs": [
    {
     "name": "stdin",
     "output_type": "stream",
     "text": [
      "Enter the value of a :  4\n",
      "Enter the value of b :  4\n"
     ]
    },
    {
     "name": "stdout",
     "output_type": "stream",
     "text": [
      "4  Power  4  is :  256\n"
     ]
    }
   ],
   "source": [
    "# [10] Power\n",
    "a = int ( input(\"Enter the value of a : \"))\n",
    "b = int ( input(\"Enter the value of b : \"))\n",
    "print(a, \" Power \" , b , \" is : \", pow(a,b) )"
   ]
  },
  {
   "cell_type": "code",
   "execution_count": null,
   "id": "b1d6d21c-65e0-4060-b0f5-192c1548c3bc",
   "metadata": {},
   "outputs": [],
   "source": []
  }
 ],
 "metadata": {
  "kernelspec": {
   "display_name": "Python 3 (ipykernel)",
   "language": "python",
   "name": "python3"
  },
  "language_info": {
   "codemirror_mode": {
    "name": "ipython",
    "version": 3
   },
   "file_extension": ".py",
   "mimetype": "text/x-python",
   "name": "python",
   "nbconvert_exporter": "python",
   "pygments_lexer": "ipython3",
   "version": "3.12.7"
  }
 },
 "nbformat": 4,
 "nbformat_minor": 5
}
